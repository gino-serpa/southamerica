{
 "cells": [
  {
   "cell_type": "markdown",
   "metadata": {
    "ExecuteTime": {
     "end_time": "2021-04-19T12:43:25.904548Z",
     "start_time": "2021-04-19T12:43:25.901628Z"
    }
   },
   "source": [
    "# Compare the databases to see if there is common data"
   ]
  },
  {
   "cell_type": "markdown",
   "metadata": {
    "ExecuteTime": {
     "end_time": "2021-04-19T12:44:04.023259Z",
     "start_time": "2021-04-19T12:44:04.021259Z"
    }
   },
   "source": [
    "# Choose one topic for which we do have scielo, scielo+ and wos"
   ]
  },
  {
   "cell_type": "markdown",
   "metadata": {
    "ExecuteTime": {
     "end_time": "2021-04-19T12:44:38.512837Z",
     "start_time": "2021-04-19T12:44:38.510395Z"
    }
   },
   "source": [
    "# After creating the dicts calculate intersections"
   ]
  },
  {
   "cell_type": "markdown",
   "metadata": {},
   "source": [
    "<h1 style=\"color:blue;\">\n",
    "    Things to analyze\n",
    "</h1>\n",
    "\n",
    "\n",
    "<h2>\n",
    "<ol>\n",
    "  <li>Do the authors dictionaries have comon authors?</li>\n",
    "  <li>How are the growth curves in wos ans scielo related (by country, by institution, by author)</li>\n",
    "  <li>Of course lots of graphs (stop talking about it and do it)</li>\n",
    "  <li>We need to define a measure of collaboration (other than nodes in a graph....or in addition, this needs to be also temporal)</li>\n",
    "  <li>Graphs by topic (for now just keyboards, would be lots of work to do proper topic modeling...maybe)</li>\n",
    "</ol>\n",
    "</h2>\n",
    "\n"
   ]
  },
  {
   "cell_type": "code",
   "execution_count": null,
   "metadata": {},
   "outputs": [],
   "source": []
  }
 ],
 "metadata": {
  "kernelspec": {
   "display_name": "Python 3",
   "language": "python",
   "name": "python3"
  },
  "language_info": {
   "codemirror_mode": {
    "name": "ipython",
    "version": 3
   },
   "file_extension": ".py",
   "mimetype": "text/x-python",
   "name": "python",
   "nbconvert_exporter": "python",
   "pygments_lexer": "ipython3",
   "version": "3.8.5"
  },
  "toc": {
   "base_numbering": 1,
   "nav_menu": {},
   "number_sections": false,
   "sideBar": true,
   "skip_h1_title": false,
   "title_cell": "Table of Contents",
   "title_sidebar": "Contents",
   "toc_cell": false,
   "toc_position": {},
   "toc_section_display": true,
   "toc_window_display": false
  }
 },
 "nbformat": 4,
 "nbformat_minor": 4
}
